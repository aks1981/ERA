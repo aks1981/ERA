{
  "nbformat": 4,
  "nbformat_minor": 0,
  "metadata": {
    "colab": {
      "provenance": []
    },
    "kernelspec": {
      "name": "python3",
      "display_name": "Python 3"
    },
    "language_info": {
      "name": "python"
    }
  },
  "cells": [
    {
      "cell_type": "markdown",
      "source": [
        "# Character Level Tokenization\n",
        "\n",
        "Code taken from [Andrej Karpathy](https://colab.research.google.com/drive/1JMLa53HDuA-i7ZBmqV7ZnA3c_fvtXnx-?usp=sharing)."
      ],
      "metadata": {
        "id": "fa-v4pvUs1nG"
      }
    },
    {
      "cell_type": "code",
      "source": [
        "from IPython.display import HTML, display\n",
        "\n",
        "def set_css():\n",
        "  display(HTML('''\n",
        "  <style>\n",
        "    pre {\n",
        "        white-space: pre-wrap;\n",
        "    }\n",
        "  </style>\n",
        "  '''))\n",
        "get_ipython().events.register('pre_run_cell', set_css)"
      ],
      "metadata": {
        "id": "Yvwi2eYQLkpM"
      },
      "execution_count": 1,
      "outputs": []
    },
    {
      "cell_type": "code",
      "source": [
        "from urllib.request import urlopen\n",
        "from bs4 import BeautifulSoup\n",
        "\n",
        "url = \"https://raw.githubusercontent.com/cltk/hindi_text_ltrc/master/tulasidaas/Raamacharita_maanasa/1/main.txt\"\n",
        "html = urlopen(url).read()\n",
        "soup = BeautifulSoup(html, features=\"html.parser\")\n",
        "\n",
        "# kill all script and style elements\n",
        "for script in soup([\"script\", \"style\"]):\n",
        "    script.extract()    # rip it out\n",
        "\n",
        "# get text\n",
        "text = soup.get_text()\n",
        "ramayana_text = text\n",
        "print(type(text))"
      ],
      "metadata": {
        "id": "uRAbvtLb1xdS",
        "outputId": "32eed801-b1ef-4d8d-c43a-5d90b53153e3",
        "colab": {
          "base_uri": "https://localhost:8080/",
          "height": 34
        }
      },
      "execution_count": 2,
      "outputs": [
        {
          "output_type": "display_data",
          "data": {
            "text/plain": [
              "<IPython.core.display.HTML object>"
            ],
            "text/html": [
              "\n",
              "  <style>\n",
              "    pre {\n",
              "        white-space: pre-wrap;\n",
              "    }\n",
              "  </style>\n",
              "  "
            ]
          },
          "metadata": {}
        },
        {
          "output_type": "stream",
          "name": "stdout",
          "text": [
            "<class 'str'>\n"
          ]
        }
      ]
    },
    {
      "cell_type": "code",
      "source": [
        "print(\"length of dataset in characters: \", len(text))"
      ],
      "metadata": {
        "colab": {
          "base_uri": "https://localhost:8080/",
          "height": 34
        },
        "id": "zBQUXKKvtP3M",
        "outputId": "91950761-7f99-43a4-a292-d220499ae071"
      },
      "execution_count": 3,
      "outputs": [
        {
          "output_type": "display_data",
          "data": {
            "text/plain": [
              "<IPython.core.display.HTML object>"
            ],
            "text/html": [
              "\n",
              "  <style>\n",
              "    pre {\n",
              "        white-space: pre-wrap;\n",
              "    }\n",
              "  </style>\n",
              "  "
            ]
          },
          "metadata": {}
        },
        {
          "output_type": "stream",
          "name": "stdout",
          "text": [
            "length of dataset in characters:  198223\n"
          ]
        }
      ]
    },
    {
      "cell_type": "code",
      "source": [
        "# let's look at the first 1000 characters\n",
        "print(text[:1000])"
      ],
      "metadata": {
        "colab": {
          "base_uri": "https://localhost:8080/",
          "height": 425
        },
        "id": "ytb1HmyMzgY_",
        "outputId": "813817a5-4e50-4a52-a8d9-030912dbb270"
      },
      "execution_count": 4,
      "outputs": [
        {
          "output_type": "display_data",
          "data": {
            "text/plain": [
              "<IPython.core.display.HTML object>"
            ],
            "text/html": [
              "\n",
              "  <style>\n",
              "    pre {\n",
              "        white-space: pre-wrap;\n",
              "    }\n",
              "  </style>\n",
              "  "
            ]
          },
          "metadata": {}
        },
        {
          "output_type": "stream",
          "name": "stdout",
          "text": [
            "जो सुमिरत सिधि होइ गन नायक करिबर बदन।\n",
            "करउ अनुग्रह सोइ बुद्धि रासि सुभ गुन सदन॥1॥\n",
            "मूक होइ बाचाल पंगु चढइ गिरिबर गहन।\n",
            "जासु कृपाँ सो दयाल द्रवउ सकल कलि मल दहन॥2॥\n",
            "नील सरोरुह स्याम तरुन अरुन बारिज नयन।\n",
            "करउ सो मम उर धाम सदा छीरसागर सयन॥3॥\n",
            "कुंद इंदु सम देह उमा रमन करुना अयन।\n",
            "जाहि दीन पर नेह करउ कृपा मर्दन मयन॥4॥\n",
            "बंदउ गुरु पद कंज कृपा सिंधु नररूप हरि।\n",
            "महामोह तम पुंज जासु बचन रबि कर निकर॥5॥\n",
            "बंदउ गुरु पद पदुम परागा। सुरुचि सुबास सरस अनुरागा॥\n",
            "अमिय मूरिमय चूरन चारू। समन सकल भव रुज परिवारू॥\n",
            "सुकृति संभु तन बिमल बिभूती। मंजुल मंगल मोद प्रसूती॥\n",
            "जन मन मंजु मुकुर मल हरनी। किएँ तिलक गुन गन बस करनी॥\n",
            "श्रीगुर पद नख मनि गन जोती। सुमिरत दिब्य द्रृष्टि हियँ होती॥\n",
            "दलन मोह तम सो सप्रकासू। बड़े भाग उर आवइ जासू॥\n",
            "उघरहिं बिमल बिलोचन ही के। मिटहिं दोष दुख भव रजनी के॥\n",
            "सूझहिं राम चरित मनि मानिक। गुपुत प्रगट जहँ जो जेहि खानिक॥\n",
            "दो0-जथा सुअंजन अंजि दृग साधक सिद्ध सुजान।\n",
            "कौतुक देखत सैल बन भूतल भूरि निधान॥1॥\n",
            "\n",
            "एहि महँ रघुपति नाम उदारा। अति पावन पुरान श्रुति सारा॥\n",
            "मंगल भवन अमंगल हारी। उमा सहित जेहि जपत पुरारी॥\n",
            "भनिति बिचित्र स\n"
          ]
        }
      ]
    },
    {
      "cell_type": "code",
      "source": [
        "# here are all the unique characters that occur in this text\n",
        "chars = sorted(list(set(text)))\n",
        "vocab_size = len(chars)\n",
        "print(''.join(chars))\n",
        "print(vocab_size)"
      ],
      "metadata": {
        "colab": {
          "base_uri": "https://localhost:8080/",
          "height": 68
        },
        "id": "Zs4a__Q3zjYc",
        "outputId": "c5c04dd7-b1f6-4249-9688-53f594e2d6b6"
      },
      "execution_count": 5,
      "outputs": [
        {
          "output_type": "display_data",
          "data": {
            "text/plain": [
              "<IPython.core.display.HTML object>"
            ],
            "text/html": [
              "\n",
              "  <style>\n",
              "    pre {\n",
              "        white-space: pre-wrap;\n",
              "    }\n",
              "  </style>\n",
              "  "
            ]
          },
          "metadata": {}
        },
        {
          "output_type": "stream",
          "name": "stdout",
          "text": [
            "\n",
            " (),-0123456789ûँंःअआइईउऊएऐओऔकखगघङचछजझटठडढणतथदधनपफबभमयरलवशषसह़ऽािीुूृेैोौ्।॥०१२३४५६७८९\n",
            "87\n"
          ]
        }
      ]
    },
    {
      "cell_type": "code",
      "source": [
        "# create a mapping from characters to integers\n",
        "stoi = { ch:i for i,ch in enumerate(chars) }\n",
        "itos = { i:ch for i,ch in enumerate(chars) }\n",
        "encode = lambda s: [stoi[c] for c in s] # encoder: take a string, output a list of integers\n",
        "decode = lambda l: ''.join([itos[i] for i in l]) # decoder: take a list of integers, output a string\n",
        "\n",
        "print(encode(\"एहि महँ रघुपति \"))\n",
        "print(decode(encode(\"एहि महँ रघुपति\")))"
      ],
      "metadata": {
        "colab": {
          "base_uri": "https://localhost:8080/",
          "height": 51
        },
        "id": "4myLqHV0zsly",
        "outputId": "cd02528f-f6a3-4beb-9c4a-4b44d1f27cae"
      },
      "execution_count": 6,
      "outputs": [
        {
          "output_type": "display_data",
          "data": {
            "text/plain": [
              "<IPython.core.display.HTML object>"
            ],
            "text/html": [
              "\n",
              "  <style>\n",
              "    pre {\n",
              "        white-space: pre-wrap;\n",
              "    }\n",
              "  </style>\n",
              "  "
            ]
          },
          "metadata": {}
        },
        {
          "output_type": "stream",
          "name": "stdout",
          "text": [
            "[26, 61, 65, 1, 53, 61, 17, 1, 55, 33, 67, 49, 44, 65, 1]\n",
            "एहि महँ रघुपति\n"
          ]
        }
      ]
    },
    {
      "cell_type": "code",
      "source": [
        "# let's now encode the entire text dataset and store it into a torch.Tensor\n",
        "import torch # we use PyTorch: https://pytorch.org\n",
        "data = torch.tensor(encode(text), dtype=torch.long)\n",
        "print(data.shape, data.dtype)\n",
        "print(data[:1000]) # the 1000 characters we looked at earier will to the LLM look like this"
      ],
      "metadata": {
        "colab": {
          "base_uri": "https://localhost:8080/",
          "height": 986
        },
        "id": "NUZv14NS0KYc",
        "outputId": "412e3155-79d6-476b-ed69-b2dcf7131b63"
      },
      "execution_count": 7,
      "outputs": [
        {
          "output_type": "display_data",
          "data": {
            "text/plain": [
              "<IPython.core.display.HTML object>"
            ],
            "text/html": [
              "\n",
              "  <style>\n",
              "    pre {\n",
              "        white-space: pre-wrap;\n",
              "    }\n",
              "  </style>\n",
              "  "
            ]
          },
          "metadata": {}
        },
        {
          "output_type": "stream",
          "name": "stdout",
          "text": [
            "torch.Size([198223]) torch.int64\n",
            "tensor([37, 72,  1, 60, 67, 53, 65, 55, 44,  1, 60, 65, 47, 65,  1, 61, 72, 22,\n",
            "         1, 32, 48,  1, 48, 64, 54, 30,  1, 30, 55, 65, 51, 55,  1, 51, 46, 48,\n",
            "        75,  0, 30, 55, 24,  1, 20, 48, 67, 32, 74, 55, 61,  1, 60, 72, 22,  1,\n",
            "        51, 67, 46, 74, 47, 65,  1, 55, 64, 60, 65,  1, 60, 67, 52,  1, 32, 67,\n",
            "        48,  1, 60, 46, 48, 76,  7, 76,  0, 53, 68, 30,  1, 61, 72, 22,  1, 51,\n",
            "        64, 35, 64, 56,  1, 49, 18, 32, 67,  1, 35, 42, 22,  1, 32, 65, 55, 65,\n",
            "        51, 55,  1, 32, 61, 48, 75,  0, 37, 64, 60, 67,  1, 30, 69, 49, 64, 17,\n",
            "         1, 60, 72,  1, 46, 54, 64, 56,  1, 46, 74, 55, 57, 24,  1, 60, 30, 56,\n",
            "         1, 30, 56, 65,  1, 53, 56,  1, 46, 61, 48, 76,  8, 76,  0, 48, 66, 56,\n",
            "         1, 60, 55, 72, 55, 67, 61,  1, 60, 74, 54, 64, 53,  1, 44, 55, 67, 48,\n",
            "         1, 20, 55, 67, 48,  1, 51, 64, 55, 65, 37,  1, 48, 54, 48, 75,  0, 30,\n",
            "        55, 24,  1, 60, 72,  1, 53, 53,  1, 24, 55,  1, 47, 64, 53,  1, 60, 46,\n",
            "        64,  1, 36, 66, 55, 60, 64, 32, 55,  1, 60, 54, 48, 76,  9, 76,  0, 30,\n",
            "        67, 18, 46,  1, 22, 18, 46, 67,  1, 60, 53,  1, 46, 70, 61,  1, 24, 53,\n",
            "        64,  1, 55, 53, 48,  1, 30, 55, 67, 48, 64,  1, 20, 54, 48, 75,  0, 37,\n",
            "        64, 61, 65,  1, 46, 66, 48,  1, 49, 55,  1, 48, 70, 61,  1, 30, 55, 24,\n",
            "         1, 30, 69, 49, 64,  1, 53, 55, 74, 46, 48,  1, 53, 54, 48, 76, 10, 76,\n",
            "         0, 51, 18, 46, 24,  1, 32, 67, 55, 67,  1, 49, 46,  1, 30, 18, 37,  1,\n",
            "        30, 69, 49, 64,  1, 60, 65, 18, 47, 67,  1, 48, 55, 55, 68, 49,  1, 61,\n",
            "        55, 65, 75,  0, 53, 61, 64, 53, 72, 61,  1, 44, 53,  1, 49, 67, 18, 37,\n",
            "         1, 37, 64, 60, 67,  1, 51, 35, 48,  1, 55, 51, 65,  1, 30, 55,  1, 48,\n",
            "        65, 30, 55, 76, 11, 76,  0, 51, 18, 46, 24,  1, 32, 67, 55, 67,  1, 49,\n",
            "        46,  1, 49, 46, 67, 53,  1, 49, 55, 64, 32, 64, 75,  1, 60, 67, 55, 67,\n",
            "        35, 65,  1, 60, 67, 51, 64, 60,  1, 60, 55, 60,  1, 20, 48, 67, 55, 64,\n",
            "        32, 64, 76,  0, 20, 53, 65, 54,  1, 53, 68, 55, 65, 53, 54,  1, 35, 68,\n",
            "        55, 48,  1, 35, 64, 55, 68, 75,  1, 60, 53, 48,  1, 60, 30, 56,  1, 52,\n",
            "        57,  1, 55, 67, 37,  1, 49, 55, 65, 57, 64, 55, 68, 76,  0, 60, 67, 30,\n",
            "        69, 44, 65,  1, 60, 18, 52, 67,  1, 44, 48,  1, 51, 65, 53, 56,  1, 51,\n",
            "        65, 52, 68, 44, 66, 75,  1, 53, 18, 37, 67, 56,  1, 53, 18, 32, 56,  1,\n",
            "        53, 72, 46,  1, 49, 74, 55, 60, 68, 44, 66, 76,  0, 37, 48,  1, 53, 48,\n",
            "         1, 53, 18, 37, 67,  1, 53, 67, 30, 67, 55,  1, 53, 56,  1, 61, 55, 48,\n",
            "        66, 75,  1, 30, 65, 26, 17,  1, 44, 65, 56, 30,  1, 32, 67, 48,  1, 32,\n",
            "        48,  1, 51, 60,  1, 30, 55, 48, 66, 76,  0, 58, 74, 55, 66, 32, 67, 55,\n",
            "         1, 49, 46,  1, 48, 31,  1, 53, 48, 65,  1, 32, 48,  1, 37, 72, 44, 66,\n",
            "        75,  1, 60, 67, 53, 65, 55, 44,  1, 46, 65, 51, 74, 54,  1, 46, 74, 55,\n",
            "        69, 59, 74, 39, 65,  1, 61, 65, 54, 17,  1, 61, 72, 44, 66, 76,  0, 46,\n",
            "        56, 48,  1, 53, 72, 61,  1, 44, 53,  1, 60, 72,  1, 60, 49, 74, 55, 30,\n",
            "        64, 60, 68, 75,  1, 51, 41, 62, 70,  1, 52, 64, 32,  1, 24, 55,  1, 21,\n",
            "        57, 22,  1, 37, 64, 60, 68, 76,  0, 24, 33, 55, 61, 65, 18,  1, 51, 65,\n",
            "        53, 56,  1, 51, 65, 56, 72, 35, 48,  1, 61, 66,  1, 30, 70, 75,  1, 53,\n",
            "        65, 39, 61, 65, 18,  1, 46, 72, 59,  1, 46, 67, 31,  1, 52, 57,  1, 55,\n",
            "        37, 48, 66,  1, 30, 70, 76,  0, 60, 68, 38, 61, 65, 18,  1, 55, 64, 53,\n",
            "         1, 35, 55, 65, 44,  1, 53, 48, 65,  1, 53, 64, 48, 65, 30, 75,  1, 32,\n",
            "        67, 49, 67, 44,  1, 49, 74, 55, 32, 39,  1, 37, 61, 17,  1, 37, 72,  1,\n",
            "        37, 70, 61, 65,  1, 31, 64, 48, 65, 30, 76,  0, 46, 72,  6,  5, 37, 45,\n",
            "        64,  1, 60, 67, 20, 18, 37, 48,  1, 20, 18, 37, 65,  1, 46, 69, 32,  1,\n",
            "        60, 64, 47, 30,  1, 60, 65, 46, 74, 47,  1, 60, 67, 37, 64, 48, 75,  0,\n",
            "        30, 73, 44, 67, 30,  1, 46, 70, 31, 44,  1, 60, 71, 56,  1, 51, 48,  1,\n",
            "        52, 68, 44, 56,  1, 52, 68, 55, 65,  1, 48, 65, 47, 64, 48, 76,  7, 76,\n",
            "         0,  0, 26, 61, 65,  1, 53, 61, 17,  1, 55, 33, 67, 49, 44, 65,  1, 48,\n",
            "        64, 53,  1, 24, 46, 64, 55, 64, 75,  1, 20, 44, 65,  1, 49, 64, 57, 48,\n",
            "         1, 49, 67, 55, 64, 48,  1, 58, 74, 55, 67, 44, 65,  1, 60, 64, 55, 64,\n",
            "        76,  0, 53, 18, 32, 56,  1, 52, 57, 48,  1, 20, 53, 18, 32, 56,  1, 61,\n",
            "        64, 55, 66, 75,  1, 24, 53, 64,  1, 60, 61, 65, 44,  1, 37, 70, 61, 65,\n",
            "         1, 37, 49, 44,  1, 49, 67, 55, 64, 55, 66, 76,  0, 52, 48, 65, 44, 65,\n",
            "         1, 51, 65, 35, 65, 44, 74, 55,  1, 60])\n"
          ]
        }
      ]
    },
    {
      "cell_type": "code",
      "source": [
        "data = torch.tensor(encode(\"कौन है रघुपति\"), dtype=torch.long)\n",
        "print(data.shape, data.dtype)\n",
        "print(data)"
      ],
      "metadata": {
        "colab": {
          "base_uri": "https://localhost:8080/",
          "height": 51
        },
        "id": "DpvAk9j00ZEj",
        "outputId": "d98444c3-bb55-4480-dbb9-ebc77c953fbf"
      },
      "execution_count": 8,
      "outputs": [
        {
          "output_type": "display_data",
          "data": {
            "text/plain": [
              "<IPython.core.display.HTML object>"
            ],
            "text/html": [
              "\n",
              "  <style>\n",
              "    pre {\n",
              "        white-space: pre-wrap;\n",
              "    }\n",
              "  </style>\n",
              "  "
            ]
          },
          "metadata": {}
        },
        {
          "output_type": "stream",
          "name": "stdout",
          "text": [
            "torch.Size([13]) torch.int64\n",
            "tensor([30, 73, 48,  1, 61, 71,  1, 55, 33, 67, 49, 44, 65])\n"
          ]
        }
      ]
    },
    {
      "cell_type": "code",
      "source": [
        "text = \"नाम जीहँ जपि जागहिं जोगी। बिरति बिरंचि प्रपंच बियोगी॥\"\n",
        "tokens = text.encode(\"utf-8\") # raw bytes\n",
        "tokens = list(map(int, tokens)) # convert to a list of integers in range 0..255 for convenience\n",
        "print('---')\n",
        "print(text)\n",
        "print(\"length:\", len(text))\n",
        "print('---')\n",
        "print(tokens)\n",
        "print(\"length:\", len(tokens))"
      ],
      "metadata": {
        "colab": {
          "base_uri": "https://localhost:8080/",
          "height": 170
        },
        "id": "7buNo3N6CDi6",
        "outputId": "b45fd67b-82ba-4eaa-924e-c880b8fd004a"
      },
      "execution_count": 11,
      "outputs": [
        {
          "output_type": "display_data",
          "data": {
            "text/plain": [
              "<IPython.core.display.HTML object>"
            ],
            "text/html": [
              "\n",
              "  <style>\n",
              "    pre {\n",
              "        white-space: pre-wrap;\n",
              "    }\n",
              "  </style>\n",
              "  "
            ]
          },
          "metadata": {}
        },
        {
          "output_type": "stream",
          "name": "stdout",
          "text": [
            "---\n",
            "नाम जीहँ जपि जागहिं जोगी। बिरति बिरंचि प्रपंच बियोगी॥\n",
            "length: 53\n",
            "---\n",
            "[224, 164, 168, 224, 164, 190, 224, 164, 174, 32, 224, 164, 156, 224, 165, 128, 224, 164, 185, 224, 164, 129, 32, 224, 164, 156, 224, 164, 170, 224, 164, 191, 32, 224, 164, 156, 224, 164, 190, 224, 164, 151, 224, 164, 185, 224, 164, 191, 224, 164, 130, 32, 224, 164, 156, 224, 165, 139, 224, 164, 151, 224, 165, 128, 224, 165, 164, 32, 224, 164, 172, 224, 164, 191, 224, 164, 176, 224, 164, 164, 224, 164, 191, 32, 224, 164, 172, 224, 164, 191, 224, 164, 176, 224, 164, 130, 224, 164, 154, 224, 164, 191, 32, 224, 164, 170, 224, 165, 141, 224, 164, 176, 224, 164, 170, 224, 164, 130, 224, 164, 154, 32, 224, 164, 172, 224, 164, 191, 224, 164, 175, 224, 165, 139, 224, 164, 151, 224, 165, 128, 224, 165, 165]\n",
            "length: 143\n"
          ]
        }
      ]
    },
    {
      "cell_type": "markdown",
      "source": [
        "Let's find the pair of bytes that occur most commonly and then replace them"
      ],
      "metadata": {
        "id": "15iSfhShHbze"
      }
    },
    {
      "cell_type": "code",
      "source": [
        "print(list(tokens))"
      ],
      "metadata": {
        "colab": {
          "base_uri": "https://localhost:8080/"
        },
        "id": "aYdaxiUvQDde",
        "outputId": "881be0eb-3405-41ae-910b-862ef61db1e1"
      },
      "execution_count": 30,
      "outputs": [
        {
          "output_type": "stream",
          "name": "stdout",
          "text": [
            "[224, 164, 168, 224, 164, 190, 224, 164, 174, 32, 224, 164, 156, 224, 165, 128, 224, 164, 185, 224, 164, 129, 32, 224, 164, 156, 224, 164, 170, 224, 164, 191, 32, 224, 164, 156, 224, 164, 190, 224, 164, 151, 224, 164, 185, 224, 164, 191, 224, 164, 130, 32, 224, 164, 156, 224, 165, 139, 224, 164, 151, 224, 165, 128, 224, 165, 164, 32, 224, 164, 172, 224, 164, 191, 224, 164, 176, 224, 164, 164, 224, 164, 191, 32, 224, 164, 172, 224, 164, 191, 224, 164, 176, 224, 164, 130, 224, 164, 154, 224, 164, 191, 32, 224, 164, 170, 224, 165, 141, 224, 164, 176, 224, 164, 170, 224, 164, 130, 224, 164, 154, 32, 224, 164, 172, 224, 164, 191, 224, 164, 175, 224, 165, 139, 224, 164, 151, 224, 165, 128, 224, 165, 165]\n"
          ]
        }
      ]
    },
    {
      "cell_type": "code",
      "source": [
        "def get_stats(ids):\n",
        "    counts = {}\n",
        "    for pair in zip(ids, ids[1:]): # Pythonic way to iterate consecutive elements\n",
        "        counts[pair] = counts.get(pair, 0) + 1\n",
        "    return counts\n",
        "\n",
        "stats = get_stats(tokens)\n",
        "print(stats)\n",
        "print(sorted(((v,k) for k,v in stats.items()), reverse=True))"
      ],
      "metadata": {
        "colab": {
          "base_uri": "https://localhost:8080/",
          "height": 153
        },
        "id": "ivJdHFbHHMZu",
        "outputId": "bfbe6cfa-f12b-4b81-ca7f-0b4777931205"
      },
      "execution_count": 12,
      "outputs": [
        {
          "output_type": "display_data",
          "data": {
            "text/plain": [
              "<IPython.core.display.HTML object>"
            ],
            "text/html": [
              "\n",
              "  <style>\n",
              "    pre {\n",
              "        white-space: pre-wrap;\n",
              "    }\n",
              "  </style>\n",
              "  "
            ]
          },
          "metadata": {}
        },
        {
          "output_type": "stream",
          "name": "stdout",
          "text": [
            "{(224, 164): 37, (164, 168): 1, (168, 224): 1, (164, 190): 2, (190, 224): 2, (164, 174): 1, (174, 32): 1, (32, 224): 8, (164, 156): 4, (156, 224): 4, (224, 165): 8, (165, 128): 3, (128, 224): 3, (164, 185): 2, (185, 224): 2, (164, 129): 1, (129, 32): 1, (164, 170): 3, (170, 224): 3, (164, 191): 7, (191, 32): 3, (164, 151): 3, (151, 224): 3, (191, 224): 4, (164, 130): 3, (130, 32): 1, (165, 139): 2, (139, 224): 2, (165, 164): 1, (164, 32): 1, (164, 172): 3, (172, 224): 3, (164, 176): 3, (176, 224): 3, (164, 164): 1, (164, 224): 1, (130, 224): 2, (164, 154): 2, (154, 224): 1, (165, 141): 1, (141, 224): 1, (154, 32): 1, (164, 175): 1, (175, 224): 1, (165, 165): 1}\n",
            "[(37, (224, 164)), (8, (224, 165)), (8, (32, 224)), (7, (164, 191)), (4, (191, 224)), (4, (164, 156)), (4, (156, 224)), (3, (191, 32)), (3, (176, 224)), (3, (172, 224)), (3, (170, 224)), (3, (165, 128)), (3, (164, 176)), (3, (164, 172)), (3, (164, 170)), (3, (164, 151)), (3, (164, 130)), (3, (151, 224)), (3, (128, 224)), (2, (190, 224)), (2, (185, 224)), (2, (165, 139)), (2, (164, 190)), (2, (164, 185)), (2, (164, 154)), (2, (139, 224)), (2, (130, 224)), (1, (175, 224)), (1, (174, 32)), (1, (168, 224)), (1, (165, 165)), (1, (165, 164)), (1, (165, 141)), (1, (164, 224)), (1, (164, 175)), (1, (164, 174)), (1, (164, 168)), (1, (164, 164)), (1, (164, 129)), (1, (164, 32)), (1, (154, 224)), (1, (154, 32)), (1, (141, 224)), (1, (130, 32)), (1, (129, 32))]\n"
          ]
        }
      ]
    },
    {
      "cell_type": "code",
      "source": [
        "top_pair = max(stats, key=stats.get)\n",
        "top_pair"
      ],
      "metadata": {
        "colab": {
          "base_uri": "https://localhost:8080/",
          "height": 34
        },
        "id": "65x7ZBM0J8ub",
        "outputId": "9aa6144e-0904-42a9-98f9-38e80d44e0d3"
      },
      "execution_count": 13,
      "outputs": [
        {
          "output_type": "display_data",
          "data": {
            "text/plain": [
              "<IPython.core.display.HTML object>"
            ],
            "text/html": [
              "\n",
              "  <style>\n",
              "    pre {\n",
              "        white-space: pre-wrap;\n",
              "    }\n",
              "  </style>\n",
              "  "
            ]
          },
          "metadata": {}
        },
        {
          "output_type": "execute_result",
          "data": {
            "text/plain": [
              "(224, 164)"
            ]
          },
          "metadata": {},
          "execution_count": 13
        }
      ]
    },
    {
      "cell_type": "code",
      "source": [
        "from IPython.display import HTML, display\n",
        "\n",
        "def set_css():\n",
        "  display(HTML('''\n",
        "  <style>\n",
        "    pre {\n",
        "        white-space: pre-wrap;\n",
        "    }\n",
        "  </style>\n",
        "  '''))\n",
        "get_ipython().events.register('pre_run_cell', set_css)"
      ],
      "metadata": {
        "colab": {
          "base_uri": "https://localhost:8080/",
          "height": 17
        },
        "id": "vit5W1cKLhzb",
        "outputId": "da3335bd-77cb-47bc-ee20-015a49ffe1e6"
      },
      "execution_count": 14,
      "outputs": [
        {
          "output_type": "display_data",
          "data": {
            "text/plain": [
              "<IPython.core.display.HTML object>"
            ],
            "text/html": [
              "\n",
              "  <style>\n",
              "    pre {\n",
              "        white-space: pre-wrap;\n",
              "    }\n",
              "  </style>\n",
              "  "
            ]
          },
          "metadata": {}
        }
      ]
    },
    {
      "cell_type": "code",
      "source": [
        "def merge(ids, pair, idx):\n",
        "  # in the list of ints (ids), replace all consecutive occurences of pair with the new token idx\n",
        "  newids = []\n",
        "  i = 0\n",
        "  while i < len(ids):\n",
        "    # if we are not at the very last position AND the pair matches, replace it\n",
        "    if i < len(ids) - 1 and ids[i] == pair[0] and ids[i+1] == pair[1]:\n",
        "      newids.append(idx)\n",
        "      i += 2\n",
        "    else:\n",
        "      newids.append(ids[i])\n",
        "      i += 1\n",
        "  return newids\n",
        "\n",
        "print(merge([5, 6, 6, 7, 9, 1], (6, 7), 99))\n",
        "\n",
        "tokens2 = merge(tokens, top_pair, 256)\n",
        "\n",
        "\n",
        "print(tokens2)\n",
        "print(\"length:\", len(tokens2), len(tokens))"
      ],
      "metadata": {
        "colab": {
          "base_uri": "https://localhost:8080/",
          "height": 102
        },
        "id": "GZdBZX93JXwD",
        "outputId": "a98ce3b1-3823-4f9a-9a85-6e5049092762"
      },
      "execution_count": 16,
      "outputs": [
        {
          "output_type": "display_data",
          "data": {
            "text/plain": [
              "<IPython.core.display.HTML object>"
            ],
            "text/html": [
              "\n",
              "  <style>\n",
              "    pre {\n",
              "        white-space: pre-wrap;\n",
              "    }\n",
              "  </style>\n",
              "  "
            ]
          },
          "metadata": {}
        },
        {
          "output_type": "display_data",
          "data": {
            "text/plain": [
              "<IPython.core.display.HTML object>"
            ],
            "text/html": [
              "\n",
              "  <style>\n",
              "    pre {\n",
              "        white-space: pre-wrap;\n",
              "    }\n",
              "  </style>\n",
              "  "
            ]
          },
          "metadata": {}
        },
        {
          "output_type": "stream",
          "name": "stdout",
          "text": [
            "[5, 6, 99, 9, 1]\n",
            "[256, 168, 256, 190, 256, 174, 32, 256, 156, 224, 165, 128, 256, 185, 256, 129, 32, 256, 156, 256, 170, 256, 191, 32, 256, 156, 256, 190, 256, 151, 256, 185, 256, 191, 256, 130, 32, 256, 156, 224, 165, 139, 256, 151, 224, 165, 128, 224, 165, 164, 32, 256, 172, 256, 191, 256, 176, 256, 164, 256, 191, 32, 256, 172, 256, 191, 256, 176, 256, 130, 256, 154, 256, 191, 32, 256, 170, 224, 165, 141, 256, 176, 256, 170, 256, 130, 256, 154, 32, 256, 172, 256, 191, 256, 175, 224, 165, 139, 256, 151, 224, 165, 128, 224, 165, 165]\n",
            "length: 106 143\n"
          ]
        }
      ]
    },
    {
      "cell_type": "code",
      "source": [
        "tokens = ramayana_text.encode(\"utf-8\") # raw bytes\n",
        "tokens = list(map(int, tokens)) # convert to a list of integers in range 0..255 for convenience"
      ],
      "metadata": {
        "colab": {
          "base_uri": "https://localhost:8080/",
          "height": 17
        },
        "id": "qAXf0kz-VqgV",
        "outputId": "8a962b49-fc5e-408f-9da2-f8e3aa4e4568"
      },
      "execution_count": 17,
      "outputs": [
        {
          "output_type": "display_data",
          "data": {
            "text/plain": [
              "<IPython.core.display.HTML object>"
            ],
            "text/html": [
              "\n",
              "  <style>\n",
              "    pre {\n",
              "        white-space: pre-wrap;\n",
              "    }\n",
              "  </style>\n",
              "  "
            ]
          },
          "metadata": {}
        },
        {
          "output_type": "display_data",
          "data": {
            "text/plain": [
              "<IPython.core.display.HTML object>"
            ],
            "text/html": [
              "\n",
              "  <style>\n",
              "    pre {\n",
              "        white-space: pre-wrap;\n",
              "    }\n",
              "  </style>\n",
              "  "
            ]
          },
          "metadata": {}
        }
      ]
    },
    {
      "cell_type": "code",
      "source": [
        "def get_stats(ids):\n",
        "    counts = {}\n",
        "    for pair in zip(ids, ids[1:]):\n",
        "        counts[pair] = counts.get(pair, 0) + 1\n",
        "    return counts\n",
        "\n",
        "def merge(ids, pair, idx):\n",
        "  newids = []\n",
        "  i = 0\n",
        "  while i < len(ids):\n",
        "    if i < len(ids) - 1 and ids[i] == pair[0] and ids[i+1] == pair[1]:\n",
        "      newids.append(idx)\n",
        "      i += 2\n",
        "    else:\n",
        "      newids.append(ids[i])\n",
        "      i += 1\n",
        "  return newids\n",
        "\n",
        "# ---\n",
        "vocab_size = 276 # the desired final vocabulary size\n",
        "num_merges = vocab_size - 256\n",
        "ids = list(tokens) # copy so we don't destroy the original list\n",
        "\n",
        "merges = {} # (int, int) -> int\n",
        "for i in range(num_merges):\n",
        "  stats = get_stats(ids)\n",
        "  pair = max(stats, key=stats.get)\n",
        "  idx = 256 + i\n",
        "  print(f\"merging {pair} into a new token {idx}\")\n",
        "  ids = merge(ids, pair, idx)\n",
        "  merges[pair] = idx"
      ],
      "metadata": {
        "colab": {
          "base_uri": "https://localhost:8080/",
          "height": 357
        },
        "id": "0RJF97WmL-Ed",
        "outputId": "b976c9b5-3f59-40b9-9616-d12fd6f11981"
      },
      "execution_count": 18,
      "outputs": [
        {
          "output_type": "display_data",
          "data": {
            "text/plain": [
              "<IPython.core.display.HTML object>"
            ],
            "text/html": [
              "\n",
              "  <style>\n",
              "    pre {\n",
              "        white-space: pre-wrap;\n",
              "    }\n",
              "  </style>\n",
              "  "
            ]
          },
          "metadata": {}
        },
        {
          "output_type": "display_data",
          "data": {
            "text/plain": [
              "<IPython.core.display.HTML object>"
            ],
            "text/html": [
              "\n",
              "  <style>\n",
              "    pre {\n",
              "        white-space: pre-wrap;\n",
              "    }\n",
              "  </style>\n",
              "  "
            ]
          },
          "metadata": {}
        },
        {
          "output_type": "stream",
          "name": "stdout",
          "text": [
            "merging (224, 164) into a new token 256\n",
            "merging (32, 256) into a new token 257\n",
            "merging (224, 165) into a new token 258\n",
            "merging (256, 190) into a new token 259\n",
            "merging (256, 191) into a new token 260\n",
            "merging (256, 176) into a new token 261\n",
            "merging (258, 129) into a new token 262\n",
            "merging (259, 256) into a new token 263\n",
            "merging (256, 168) into a new token 264\n",
            "merging (256, 185) into a new token 265\n",
            "merging (260, 257) into a new token 266\n",
            "merging (260, 256) into a new token 267\n",
            "merging (164, 257) into a new token 268\n",
            "merging (258, 165) into a new token 269\n",
            "merging (258, 128) into a new token 270\n",
            "merging (258, 135) into a new token 271\n",
            "merging (10, 256) into a new token 272\n",
            "merging (257, 184) into a new token 273\n",
            "merging (258, 141) into a new token 274\n",
            "merging (258, 139) into a new token 275\n"
          ]
        }
      ]
    },
    {
      "cell_type": "code",
      "source": [
        "print(\"tokens length:\", len(tokens))\n",
        "print(\"ids length:\", len(ids))\n",
        "print(f\"compression ratio: {len(tokens) / len(ids):.2f}X\")"
      ],
      "metadata": {
        "colab": {
          "base_uri": "https://localhost:8080/",
          "height": 68
        },
        "id": "BOw4ulpFM0l8",
        "outputId": "08195800-840b-4320-c464-0e09172861d9"
      },
      "execution_count": 19,
      "outputs": [
        {
          "output_type": "display_data",
          "data": {
            "text/plain": [
              "<IPython.core.display.HTML object>"
            ],
            "text/html": [
              "\n",
              "  <style>\n",
              "    pre {\n",
              "        white-space: pre-wrap;\n",
              "    }\n",
              "  </style>\n",
              "  "
            ]
          },
          "metadata": {}
        },
        {
          "output_type": "display_data",
          "data": {
            "text/plain": [
              "<IPython.core.display.HTML object>"
            ],
            "text/html": [
              "\n",
              "  <style>\n",
              "    pre {\n",
              "        white-space: pre-wrap;\n",
              "    }\n",
              "  </style>\n",
              "  "
            ]
          },
          "metadata": {}
        },
        {
          "output_type": "stream",
          "name": "stdout",
          "text": [
            "tokens length: 516373\n",
            "ids length: 222256\n",
            "compression ratio: 2.32X\n"
          ]
        }
      ]
    },
    {
      "cell_type": "code",
      "source": [
        "def get_stats(ids):\n",
        "    counts = {}\n",
        "    for pair in zip(ids, ids[1:]):\n",
        "        counts[pair] = counts.get(pair, 0) + 1\n",
        "    return counts\n",
        "\n",
        "def merge(ids, pair, idx):\n",
        "  newids = []\n",
        "  i = 0\n",
        "  while i < len(ids):\n",
        "    if i < len(ids) - 1 and ids[i] == pair[0] and ids[i+1] == pair[1]:\n",
        "      newids.append(idx)\n",
        "      i += 2\n",
        "    else:\n",
        "      newids.append(ids[i])\n",
        "      i += 1\n",
        "  return newids\n",
        "\n",
        "# ---\n",
        "vocab_size = 1000 # the desired final vocabulary size\n",
        "num_merges = vocab_size - 256\n",
        "ids = list(tokens) # copy so we don't destroy the original list\n",
        "\n",
        "merges = {} # (int, int) -> int\n",
        "for i in range(num_merges):\n",
        "  stats = get_stats(ids)\n",
        "  pair = max(stats, key=stats.get)\n",
        "  idx = 256 + i\n",
        "  # print(f\"merging {pair} into a new token {idx}\")\n",
        "  ids = merge(ids, pair, idx)\n",
        "  merges[pair] = idx\n",
        "\n",
        "print(\"tokens length:\", len(tokens))\n",
        "print(\"ids length:\", len(ids))\n",
        "print(f\"compression ratio: {len(tokens) / len(ids):.2f}X\")"
      ],
      "metadata": {
        "colab": {
          "base_uri": "https://localhost:8080/",
          "height": 68
        },
        "id": "2vmogX5kM3x-",
        "outputId": "fa54a99d-09eb-465b-8d84-0d1030b4e7bc"
      },
      "execution_count": 20,
      "outputs": [
        {
          "output_type": "display_data",
          "data": {
            "text/plain": [
              "<IPython.core.display.HTML object>"
            ],
            "text/html": [
              "\n",
              "  <style>\n",
              "    pre {\n",
              "        white-space: pre-wrap;\n",
              "    }\n",
              "  </style>\n",
              "  "
            ]
          },
          "metadata": {}
        },
        {
          "output_type": "display_data",
          "data": {
            "text/plain": [
              "<IPython.core.display.HTML object>"
            ],
            "text/html": [
              "\n",
              "  <style>\n",
              "    pre {\n",
              "        white-space: pre-wrap;\n",
              "    }\n",
              "  </style>\n",
              "  "
            ]
          },
          "metadata": {}
        },
        {
          "output_type": "stream",
          "name": "stdout",
          "text": [
            "tokens length: 516373\n",
            "ids length: 87110\n",
            "compression ratio: 5.93X\n"
          ]
        }
      ]
    },
    {
      "cell_type": "markdown",
      "source": [
        "### Decoding\n",
        "\n"
      ],
      "metadata": {
        "id": "GOv7J5O5QDNC"
      }
    },
    {
      "cell_type": "code",
      "source": [
        "vocab = {idx: bytes([idx]) for idx in range(256)}\n",
        "for (p0, p1), idx in merges.items():\n",
        "    vocab[idx] = vocab[p0] + vocab[p1]\n",
        "\n",
        "def decode(ids):\n",
        "  # given ids (list of integers), return Python string\n",
        "  tokens = b\"\".join(vocab[idx] for idx in ids)\n",
        "  text = tokens.decode(\"utf-8\", errors=\"replace\")\n",
        "  return text\n",
        "\n",
        "print(decode([349]))"
      ],
      "metadata": {
        "colab": {
          "base_uri": "https://localhost:8080/",
          "height": 34
        },
        "id": "aVBn0l-qM7gV",
        "outputId": "2e47b374-447e-4dba-fc0d-9a283e643ff6"
      },
      "execution_count": 32,
      "outputs": [
        {
          "output_type": "display_data",
          "data": {
            "text/plain": [
              "<IPython.core.display.HTML object>"
            ],
            "text/html": [
              "\n",
              "  <style>\n",
              "    pre {\n",
              "        white-space: pre-wrap;\n",
              "    }\n",
              "  </style>\n",
              "  "
            ]
          },
          "metadata": {}
        },
        {
          "output_type": "display_data",
          "data": {
            "text/plain": [
              "<IPython.core.display.HTML object>"
            ],
            "text/html": [
              "\n",
              "  <style>\n",
              "    pre {\n",
              "        white-space: pre-wrap;\n",
              "    }\n",
              "  </style>\n",
              "  "
            ]
          },
          "metadata": {}
        },
        {
          "output_type": "stream",
          "name": "stdout",
          "text": [
            "हु\n"
          ]
        }
      ]
    },
    {
      "cell_type": "markdown",
      "source": [
        "### Encoding\n",
        "\n",
        "The other way around: Given a string, what are the tokens?\n"
      ],
      "metadata": {
        "id": "k-mlB1AdQ34_"
      }
    },
    {
      "cell_type": "code",
      "source": [
        "merges"
      ],
      "metadata": {
        "colab": {
          "base_uri": "https://localhost:8080/",
          "height": 1000
        },
        "id": "fM1nBKb_Qdv1",
        "outputId": "63379d0e-712b-4b08-ae2a-2559458423ea"
      },
      "execution_count": 23,
      "outputs": [
        {
          "output_type": "display_data",
          "data": {
            "text/plain": [
              "<IPython.core.display.HTML object>"
            ],
            "text/html": [
              "\n",
              "  <style>\n",
              "    pre {\n",
              "        white-space: pre-wrap;\n",
              "    }\n",
              "  </style>\n",
              "  "
            ]
          },
          "metadata": {}
        },
        {
          "output_type": "display_data",
          "data": {
            "text/plain": [
              "<IPython.core.display.HTML object>"
            ],
            "text/html": [
              "\n",
              "  <style>\n",
              "    pre {\n",
              "        white-space: pre-wrap;\n",
              "    }\n",
              "  </style>\n",
              "  "
            ]
          },
          "metadata": {}
        },
        {
          "output_type": "execute_result",
          "data": {
            "text/plain": [
              "{(224, 164): 256,\n",
              " (32, 256): 257,\n",
              " (224, 165): 258,\n",
              " (256, 190): 259,\n",
              " (256, 191): 260,\n",
              " (256, 176): 261,\n",
              " (258, 129): 262,\n",
              " (259, 256): 263,\n",
              " (256, 168): 264,\n",
              " (256, 185): 265,\n",
              " (260, 257): 266,\n",
              " (260, 256): 267,\n",
              " (164, 257): 268,\n",
              " (258, 165): 269,\n",
              " (258, 128): 270,\n",
              " (258, 135): 271,\n",
              " (10, 256): 272,\n",
              " (257, 184): 273,\n",
              " (258, 141): 274,\n",
              " (258, 139): 275,\n",
              " (262, 256): 276,\n",
              " (258, 268): 277,\n",
              " (269, 272): 278,\n",
              " (257, 172): 279,\n",
              " (256, 130): 280,\n",
              " (257, 149): 281,\n",
              " (256, 164): 282,\n",
              " (256, 184): 283,\n",
              " (256, 178): 284,\n",
              " (257, 174): 285,\n",
              " (256, 149): 286,\n",
              " (257, 170): 287,\n",
              " (256, 174): 288,\n",
              " (263, 168): 289,\n",
              " (257, 168): 290,\n",
              " (257, 156): 291,\n",
              " (274, 261): 292,\n",
              " (259, 261): 293,\n",
              " (256, 172): 294,\n",
              " (256, 175): 295,\n",
              " (256, 170): 296,\n",
              " (256, 166): 297,\n",
              " (256, 151): 298,\n",
              " (256, 181): 299,\n",
              " (262, 264): 300,\n",
              " (258, 130): 301,\n",
              " (265, 267): 302,\n",
              " (257, 133): 303,\n",
              " (265, 266): 304,\n",
              " (259, 277): 305,\n",
              " (275, 256): 306,\n",
              " (256, 268): 307,\n",
              " (302, 130): 308,\n",
              " (257, 164): 309,\n",
              " (257, 166): 310,\n",
              " (257, 173): 311,\n",
              " (282, 266): 312,\n",
              " (263, 174): 313,\n",
              " (259, 278): 314,\n",
              " (257, 176): 315,\n",
              " (256, 129): 316,\n",
              " (274, 265): 317,\n",
              " (279, 267): 318,\n",
              " (262, 261): 319,\n",
              " (271, 256): 320,\n",
              " (256, 156): 321,\n",
              " (270, 277): 322,\n",
              " (269, 10): 323,\n",
              " (257, 151): 324,\n",
              " (257, 185): 325,\n",
              " (258, 131): 326,\n",
              " (264, 317): 327,\n",
              " (270, 278): 328,\n",
              " (273, 276): 329,\n",
              " (263, 136): 330,\n",
              " (261, 266): 331,\n",
              " (256, 154): 332,\n",
              " (263, 185): 333,\n",
              " (270, 280): 334,\n",
              " (256, 173): 335,\n",
              " (300, 266): 336,\n",
              " (258, 136): 337,\n",
              " (287, 292): 338,\n",
              " (258, 164): 339,\n",
              " (257, 178): 340,\n",
              " (260, 261): 341,\n",
              " (263, 181): 342,\n",
              " (256, 167): 343,\n",
              " (172, 267): 344,\n",
              " (274, 295): 345,\n",
              " (267, 268): 346,\n",
              " (264, 262): 347,\n",
              " (339, 272): 348,\n",
              " (265, 262): 349,\n",
              " (257, 154): 350,\n",
              " (263, 184): 351,\n",
              " (170, 292): 352,\n",
              " (266, 184): 353,\n",
              " (263, 151): 354,\n",
              " (281, 261): 355,\n",
              " (256, 150): 356,\n",
              " (258, 140): 357,\n",
              " (263, 156): 358,\n",
              " (263, 178): 359,\n",
              " (166, 275): 360,\n",
              " (48, 45): 361,\n",
              " (271, 280): 362,\n",
              " (273, 294): 363,\n",
              " (320, 150): 364,\n",
              " (256, 137): 365,\n",
              " (323, 272): 366,\n",
              " (275, 261): 367,\n",
              " (256, 159): 368,\n",
              " (276, 174): 369,\n",
              " (257, 134): 370,\n",
              " (263, 164): 371,\n",
              " (360, 361): 372,\n",
              " (270, 327): 373,\n",
              " (257, 167): 374,\n",
              " (256, 165): 375,\n",
              " (263, 135): 376,\n",
              " (265, 276): 377,\n",
              " (273, 288): 378,\n",
              " (261, 264): 379,\n",
              " (290, 267): 380,\n",
              " (260, 264): 381,\n",
              " (257, 137): 382,\n",
              " (256, 183): 383,\n",
              " (263, 129): 384,\n",
              " (256, 188): 385,\n",
              " (280, 298): 386,\n",
              " (285, 264): 387,\n",
              " (269, 258): 388,\n",
              " (256, 155): 389,\n",
              " (330, 277): 390,\n",
              " (267, 164): 391,\n",
              " (276, 178): 392,\n",
              " (326, 296): 393,\n",
              " (301, 296): 394,\n",
              " (281, 265): 395,\n",
              " (266, 149): 396,\n",
              " (286, 284): 397,\n",
              " (280, 297): 398,\n",
              " (278, 184): 399,\n",
              " (377, 129): 400,\n",
              " (287, 261): 401,\n",
              " (256, 160): 402,\n",
              " (256, 152): 403,\n",
              " (335, 262): 404,\n",
              " (275, 265): 405,\n",
              " (270, 261): 406,\n",
              " (271, 277): 407,\n",
              " (256, 161): 408,\n",
              " (263, 143): 409,\n",
              " (256, 135): 410,\n",
              " (271, 304): 411,\n",
              " (267, 175): 412,\n",
              " (275, 284): 413,\n",
              " (275, 286): 414,\n",
              " (256, 143): 415,\n",
              " (279, 261): 416,\n",
              " (289, 322): 417,\n",
              " (306, 135): 418,\n",
              " (263, 170): 419,\n",
              " (167, 266): 420,\n",
              " (263, 175): 421,\n",
              " (303, 264): 422,\n",
              " (260, 327): 423,\n",
              " (320, 137): 424,\n",
              " (330, 278): 425,\n",
              " (149, 261): 426,\n",
              " (174, 264): 427,\n",
              " (271, 265): 428,\n",
              " (315, 313): 429,\n",
              " (260, 265): 430,\n",
              " (184, 276): 431,\n",
              " (271, 299): 432,\n",
              " (333, 334): 433,\n",
              " (267, 149): 434,\n",
              " (265, 316): 435,\n",
              " (369, 317): 436,\n",
              " (273, 280): 437,\n",
              " (291, 289): 438,\n",
              " (301, 277): 439,\n",
              " (267, 181): 440,\n",
              " (267, 184): 441,\n",
              " (271, 278): 442,\n",
              " (365, 316): 443,\n",
              " (166, 364): 444,\n",
              " (273, 261): 445,\n",
              " (170, 261): 446,\n",
              " (267, 174): 447,\n",
              " (293, 322): 448,\n",
              " (306, 137): 449,\n",
              " (261, 383): 450,\n",
              " (263, 166): 451,\n",
              " (332, 264): 452,\n",
              " (182, 292): 453,\n",
              " (276, 150): 454,\n",
              " (289, 305): 455,\n",
              " (271, 282): 456,\n",
              " (289, 328): 457,\n",
              " (266, 172): 458,\n",
              " (273, 397): 459,\n",
              " (274, 299): 460,\n",
              " (306, 136): 461,\n",
              " (270, 264): 462,\n",
              " (267, 178): 463,\n",
              " (156, 264): 464,\n",
              " (310, 364): 465,\n",
              " (326, 297): 466,\n",
              " (271, 283): 467,\n",
              " (329, 150): 468,\n",
              " (267, 130): 469,\n",
              " (149, 265): 470,\n",
              " (299, 264): 471,\n",
              " (263, 165): 472,\n",
              " (269, 49): 473,\n",
              " (408, 385): 474,\n",
              " (291, 264): 475,\n",
              " (262, 265): 476,\n",
              " (285, 336): 477,\n",
              " (323, 261): 478,\n",
              " (266, 168): 479,\n",
              " (270, 283): 480,\n",
              " (266, 174): 481,\n",
              " (307, 184): 482,\n",
              " (293, 328): 483,\n",
              " (261, 262): 484,\n",
              " (267, 156): 485,\n",
              " (257, 155): 486,\n",
              " (301, 278): 487,\n",
              " (257, 143): 488,\n",
              " (304, 184): 489,\n",
              " (256, 136): 490,\n",
              " (303, 312): 491,\n",
              " (289, 314): 492,\n",
              " (303, 283): 493,\n",
              " (269, 50): 494,\n",
              " (259, 273): 495,\n",
              " (258, 166): 496,\n",
              " (262, 279): 497,\n",
              " (302, 268): 498,\n",
              " (265, 334): 499,\n",
              " (323, 264): 500,\n",
              " (262, 285): 501,\n",
              " (380, 156): 502,\n",
              " (281, 373): 503,\n",
              " (162, 385): 504,\n",
              " (276, 149): 505,\n",
              " (305, 184): 506,\n",
              " (273, 319): 507,\n",
              " (496, 45): 508,\n",
              " (130, 297): 509,\n",
              " (176, 313): 510,\n",
              " (306, 154): 511,\n",
              " (178, 414): 512,\n",
              " (276, 166): 513,\n",
              " (386, 284): 514,\n",
              " (291, 275): 515,\n",
              " (262, 273): 516,\n",
              " (318, 184): 517,\n",
              " (271, 288): 518,\n",
              " (270, 282): 519,\n",
              " (266, 156): 520,\n",
              " (133, 283): 521,\n",
              " (320, 183): 522,\n",
              " (154, 293): 523,\n",
              " (357, 280): 524,\n",
              " (309, 436): 525,\n",
              " (342, 264): 526,\n",
              " (271, 308): 527,\n",
              " (274, 288): 528,\n",
              " (279, 283): 529,\n",
              " (337, 280): 530,\n",
              " (154, 284): 531,\n",
              " (315, 403): 532,\n",
              " (287, 319): 533,\n",
              " (295, 316): 534,\n",
              " (262, 290): 535,\n",
              " (267, 133): 536,\n",
              " (170, 336): 537,\n",
              " (262, 281): 538,\n",
              " (312, 184): 539,\n",
              " (263, 167): 540,\n",
              " (314, 184): 541,\n",
              " (261, 290): 542,\n",
              " (281, 271): 543,\n",
              " (273, 300): 544,\n",
              " (276, 170): 545,\n",
              " (276, 172): 546,\n",
              " (278, 156): 547,\n",
              " (324, 300): 548,\n",
              " (295, 264): 549,\n",
              " (276, 154): 550,\n",
              " (291, 298): 551,\n",
              " (304, 168): 552,\n",
              " (280, 286): 553,\n",
              " (281, 284): 554,\n",
              " (262, 287): 555,\n",
              " (338, 404): 556,\n",
              " (259, 388): 557,\n",
              " (138, 277): 558,\n",
              " (344, 167): 559,\n",
              " (133, 264): 560,\n",
              " (263, 268): 561,\n",
              " (433, 277): 562,\n",
              " (290, 308): 563,\n",
              " (282, 270): 564,\n",
              " (279, 413): 565,\n",
              " (375, 259): 566,\n",
              " (276, 164): 567,\n",
              " (295, 365): 568,\n",
              " (269, 51): 569,\n",
              " (509, 261): 570,\n",
              " (314, 372): 571,\n",
              " (256, 504): 572,\n",
              " (279, 452): 573,\n",
              " (173, 298): 574,\n",
              " (266, 151): 575,\n",
              " (271, 297): 576,\n",
              " (276, 184): 577,\n",
              " (273, 264): 578,\n",
              " (362, 277): 579,\n",
              " (285, 265): 580,\n",
              " (263, 137): 581,\n",
              " (303, 299): 582,\n",
              " (466, 534): 583,\n",
              " (278, 372): 584,\n",
              " (292, 265): 585,\n",
              " (280, 321): 586,\n",
              " (261, 346): 587,\n",
              " (488, 286): 588,\n",
              " (280, 343): 589,\n",
              " (291, 376): 590,\n",
              " (287, 297): 591,\n",
              " (293, 305): 592,\n",
              " (266, 164): 593,\n",
              " (409, 277): 594,\n",
              " (279, 264): 595,\n",
              " (266, 170): 596,\n",
              " (257, 171): 597,\n",
              " (290, 393): 598,\n",
              " (301, 284): 599,\n",
              " (271, 307): 600,\n",
              " (267, 172): 601,\n",
              " (306, 183): 602,\n",
              " (266, 173): 603,\n",
              " (271, 286): 604,\n",
              " (267, 183): 605,\n",
              " (310, 373): 606,\n",
              " (263, 154): 607,\n",
              " (276, 156): 608,\n",
              " (271, 349): 609,\n",
              " (267, 166): 610,\n",
              " (133, 312): 611,\n",
              " (478, 313): 612,\n",
              " (281, 389): 613,\n",
              " (318, 420): 614,\n",
              " (275, 298): 615,\n",
              " (279, 293): 616,\n",
              " (266, 166): 617,\n",
              " (281, 393): 618,\n",
              " (290, 313): 619,\n",
              " (352, 404): 620,\n",
              " (274, 304): 621,\n",
              " (270, 284): 622,\n",
              " (184, 288): 623,\n",
              " (511, 264): 624,\n",
              " (257, 150): 625,\n",
              " (279, 341): 626,\n",
              " (263, 149): 627,\n",
              " (273, 275): 628,\n",
              " (273, 265): 629,\n",
              " (281, 331): 630,\n",
              " (323, 265): 631,\n",
              " (293, 297): 632,\n",
              " (270, 312): 633,\n",
              " (156, 289): 634,\n",
              " (374, 261): 635,\n",
              " (276, 157): 636,\n",
              " (513, 346): 637,\n",
              " (273, 336): 638,\n",
              " (270, 307): 639,\n",
              " (133, 299): 640,\n",
              " (306, 173): 641,\n",
              " (184, 294): 642,\n",
              " (342, 308): 643,\n",
              " (461, 277): 644,\n",
              " (318, 512): 645,\n",
              " (260, 347): 646,\n",
              " (382, 261): 647,\n",
              " (585, 528): 648,\n",
              " (344, 420): 649,\n",
              " (260, 331): 650,\n",
              " (303, 296): 651,\n",
              " (298, 264): 652,\n",
              " (350, 284): 653,\n",
              " (172, 413): 654,\n",
              " (301, 261): 655,\n",
              " (257, 453): 656,\n",
              " (332, 274): 657,\n",
              " (273, 286): 658,\n",
              " (273, 476): 659,\n",
              " (267, 143): 660,\n",
              " (274, 282): 661,\n",
              " (318, 172): 662,\n",
              " (280, 283): 663,\n",
              " (281, 337): 664,\n",
              " (325, 450): 665,\n",
              " (271, 261): 666,\n",
              " (301, 321): 667,\n",
              " (283, 261): 668,\n",
              " (260, 304): 669,\n",
              " (270, 295): 670,\n",
              " (279, 356): 671,\n",
              " (278, 172): 672,\n",
              " (257, 152): 673,\n",
              " (286, 261): 674,\n",
              " (345, 289): 675,\n",
              " (309, 294): 676,\n",
              " (276, 151): 677,\n",
              " (266, 176): 678,\n",
              " (338, 283): 679,\n",
              " (281, 276): 680,\n",
              " (279, 379): 681,\n",
              " (348, 184): 682,\n",
              " (318, 167): 683,\n",
              " (283, 262): 684,\n",
              " (267, 170): 685,\n",
              " (267, 167): 686,\n",
              " (266, 344): 687,\n",
              " (382, 296): 688,\n",
              " (298, 300): 689,\n",
              " (280, 282): 690,\n",
              " (279, 381): 691,\n",
              " (278, 164): 692,\n",
              " (311, 298): 693,\n",
              " (380, 184): 694,\n",
              " (325, 288): 695,\n",
              " (311, 299): 696,\n",
              " (305, 164): 697,\n",
              " (263, 150): 698,\n",
              " (339, 10): 699,\n",
              " (275, 304): 700,\n",
              " (285, 300): 701,\n",
              " (273, 440): 702,\n",
              " (175, 265): 703,\n",
              " (311, 394): 704,\n",
              " (322, 184): 705,\n",
              " (321, 264): 706,\n",
              " (298, 368): 707,\n",
              " (451, 261): 708,\n",
              " (340, 354): 709,\n",
              " (293, 270): 710,\n",
              " (282, 259): 711,\n",
              " (291, 347): 712,\n",
              " (531, 271): 713,\n",
              " (293, 314): 714,\n",
              " (311, 384): 715,\n",
              " (318, 523): 716,\n",
              " (265, 384): 717,\n",
              " (657, 389): 718,\n",
              " (273, 341): 719,\n",
              " (149, 284): 720,\n",
              " (133, 294): 721,\n",
              " (337, 402): 722,\n",
              " (274, 343): 723,\n",
              " (325, 418): 724,\n",
              " (307, 172): 725,\n",
              " (270, 296): 726,\n",
              " (446, 288): 727,\n",
              " (296, 264): 728,\n",
              " (280, 408): 729,\n",
              " (154, 357): 730,\n",
              " (297, 264): 731,\n",
              " (288, 259): 732,\n",
              " (285, 405): 733,\n",
              " (154, 391): 734,\n",
              " (305, 149): 735,\n",
              " (266, 178): 736,\n",
              " (280, 332): 737,\n",
              " (301, 383): 738,\n",
              " (273, 498): 739,\n",
              " (281, 275): 740,\n",
              " (170, 278): 741,\n",
              " (309, 435): 742,\n",
              " (324, 341): 743,\n",
              " (276, 167): 744,\n",
              " (156, 275): 745,\n",
              " (329, 173): 746,\n",
              " (306, 159): 747,\n",
              " (315, 265): 748,\n",
              " (287, 336): 749,\n",
              " (174, 336): 750,\n",
              " (329, 570): 751,\n",
              " (412, 316): 752,\n",
              " (353, 294): 753,\n",
              " (310, 449): 754,\n",
              " (329, 174): 755,\n",
              " (278, 149): 756,\n",
              " (288, 284): 757,\n",
              " (325, 583): 758,\n",
              " (285, 530): 759,\n",
              " (309, 362): 760,\n",
              " (730, 508): 761,\n",
              " (360, 508): 762,\n",
              " (266, 185): 763,\n",
              " (285, 367): 764,\n",
              " (312, 172): 765,\n",
              " (340, 356): 766,\n",
              " (289, 270): 767,\n",
              " (291, 284): 768,\n",
              " (314, 164): 769,\n",
              " (328, 184): 770,\n",
              " (305, 172): 771,\n",
              " (270, 299): 772,\n",
              " (265, 319): 773,\n",
              " (271, 279): 774,\n",
              " (266, 133): 775,\n",
              " (296, 261): 776,\n",
              " (257, 135): 777,\n",
              " (324, 319): 778,\n",
              " (319, 354): 779,\n",
              " (350, 379): 780,\n",
              " (314, 172): 781,\n",
              " (334, 277): 782,\n",
              " (318, 166): 783,\n",
              " (185, 450): 784,\n",
              " (351, 262): 785,\n",
              " (137, 261): 786,\n",
              " (366, 761): 787,\n",
              " (350, 587): 788,\n",
              " (281, 333): 789,\n",
              " (267, 150): 790,\n",
              " (303, 294): 791,\n",
              " (738, 264): 792,\n",
              " (307, 149): 793,\n",
              " (374, 331): 794,\n",
              " (305, 156): 795,\n",
              " (315, 358): 796,\n",
              " (280, 294): 797,\n",
              " (326, 298): 798,\n",
              " (271, 264): 799,\n",
              " (613, 262): 800,\n",
              " (314, 149): 801,\n",
              " (290, 261): 802,\n",
              " (276, 183): 803,\n",
              " (293, 407): 804,\n",
              " (285, 514): 805,\n",
              " (275, 297): 806,\n",
              " (370, 299): 807,\n",
              " (143, 304): 808,\n",
              " (143, 286): 809,\n",
              " (325, 331): 810,\n",
              " (323, 10): 811,\n",
              " (343, 434): 812,\n",
              " (173, 415): 813,\n",
              " (338, 518): 814,\n",
              " (392, 286): 815,\n",
              " (173, 394): 816,\n",
              " (387, 285): 817,\n",
              " (296, 292): 818,\n",
              " (291, 411): 819,\n",
              " (170, 319): 820,\n",
              " (297, 296): 821,\n",
              " (312, 174): 822,\n",
              " (279, 576): 823,\n",
              " (167, 261): 824,\n",
              " (305, 168): 825,\n",
              " (314, 156): 826,\n",
              " (401, 288): 827,\n",
              " (318, 352): 828,\n",
              " (315, 394): 829,\n",
              " (279, 474): 830,\n",
              " (352, 518): 831,\n",
              " (378, 600): 832,\n",
              " (260, 348): 833,\n",
              " (326, 383): 834,\n",
              " (155, 280): 835,\n",
              " (288, 295): 836,\n",
              " (270, 286): 837,\n",
              " (370, 264): 838,\n",
              " (325, 346): 839,\n",
              " (464, 286): 840,\n",
              " (409, 278): 841,\n",
              " (456, 262): 842,\n",
              " (333, 469): 843,\n",
              " (462, 621): 844,\n",
              " (330, 280): 845,\n",
              " (324, 264): 846,\n",
              " (421, 286): 847,\n",
              " (297, 259): 848,\n",
              " (261, 274): 849,\n",
              " (318, 174): 850,\n",
              " (378, 358): 851,\n",
              " (166, 432): 852,\n",
              " (282, 345): 853,\n",
              " (486, 294): 854,\n",
              " (333, 262): 855,\n",
              " (295, 256): 856,\n",
              " (291, 295): 857,\n",
              " (279, 358): 858,\n",
              " (288, 264): 859,\n",
              " (309, 264): 860,\n",
              " (263, 138): 861,\n",
              " (304, 156): 862,\n",
              " (134, 261): 863,\n",
              " (344, 184): 864,\n",
              " (170, 297): 865,\n",
              " (741, 762): 866,\n",
              " (325, 261): 867,\n",
              " (282, 419): 868,\n",
              " (312, 149): 869,\n",
              " (307, 174): 870,\n",
              " (337, 283): 871,\n",
              " (279, 349): 872,\n",
              " (289, 259): 873,\n",
              " (405, 261): 874,\n",
              " (173, 384): 875,\n",
              " (311, 292): 876,\n",
              " (326, 265): 877,\n",
              " (325, 275): 878,\n",
              " (392, 283): 879,\n",
              " (305, 174): 880,\n",
              " (332, 261): 881,\n",
              " (168, 485): 882,\n",
              " (330, 399): 883,\n",
              " (309, 411): 884,\n",
              " (281, 400): 885,\n",
              " (298, 345): 886,\n",
              " (164, 436): 887,\n",
              " (273, 418): 888,\n",
              " (276, 130): 889,\n",
              " (350, 293): 890,\n",
              " (355, 308): 891,\n",
              " (285, 302): 892,\n",
              " (331, 172): 893,\n",
              " (289, 407): 894,\n",
              " (359, 286): 895,\n",
              " (296, 368): 896,\n",
              " (279, 284): 897,\n",
              " (274, 264): 898,\n",
              " (366, 184): 899,\n",
              " (329, 268): 900,\n",
              " (306, 156): 901,\n",
              " (296, 262): 902,\n",
              " (279, 345): 903,\n",
              " (283, 264): 904,\n",
              " (309, 367): 905,\n",
              " (370, 415): 906,\n",
              " (469, 343): 907,\n",
              " (396, 261): 908,\n",
              " (310, 454): 909,\n",
              " (303, 288): 910,\n",
              " (287, 342): 911,\n",
              " (151, 319): 912,\n",
              " (185, 261): 913,\n",
              " (263, 558): 914,\n",
              " (409, 316): 915,\n",
              " (340, 298): 916,\n",
              " (285, 463): 917,\n",
              " (425, 372): 918,\n",
              " (357, 283): 919,\n",
              " (388, 169): 920,\n",
              " (290, 549): 921,\n",
              " (291, 435): 922,\n",
              " (291, 283): 923,\n",
              " (328, 156): 924,\n",
              " (281, 566): 925,\n",
              " (279, 648): 926,\n",
              " (320, 135): 927,\n",
              " (338, 335): 928,\n",
              " (257, 165): 929,\n",
              " (374, 264): 930,\n",
              " (307, 168): 931,\n",
              " (178, 298): 932,\n",
              " (291, 294): 933,\n",
              " (304, 149): 934,\n",
              " (515, 298): 935,\n",
              " (279, 430): 936,\n",
              " (359, 305): 937,\n",
              " (133, 316): 938,\n",
              " (432, 286): 939,\n",
              " (266, 352): 940,\n",
              " (293, 442): 941,\n",
              " (294, 283): 942,\n",
              " (311, 415): 943,\n",
              " (348, 156): 944,\n",
              " (345, 313): 945,\n",
              " (357, 282): 946,\n",
              " (312, 168): 947,\n",
              " (174, 514): 948,\n",
              " (279, 646): 949,\n",
              " (184, 275): 950,\n",
              " (328, 372): 951,\n",
              " (281, 449): 952,\n",
              " (172, 379): 953,\n",
              " (499, 277): 954,\n",
              " (137, 296): 955,\n",
              " (410, 290): 956,\n",
              " (357, 261): 957,\n",
              " (263, 159): 958,\n",
              " (346, 168): 959,\n",
              " (273, 316): 960,\n",
              " (176, 265): 961,\n",
              " (257, 161): 962,\n",
              " (164, 294): 963,\n",
              " (475, 286): 964,\n",
              " (280, 404): 965,\n",
              " (355, 264): 966,\n",
              " (311, 471): 967,\n",
              " (307, 156): 968,\n",
              " (391, 259): 969,\n",
              " (273, 386): 970,\n",
              " (312, 173): 971,\n",
              " (597, 284): 972,\n",
              " (338, 707): 973,\n",
              " (285, 454): 974,\n",
              " (282, 264): 975,\n",
              " (307, 185): 976,\n",
              " (284, 414): 977,\n",
              " (371, 305): 978,\n",
              " (281, 757): 979,\n",
              " (178, 354): 980,\n",
              " (263, 504): 981,\n",
              " (303, 812): 982,\n",
              " (281, 313): 983,\n",
              " (291, 271): 984,\n",
              " (589, 262): 985,\n",
              " (273, 460): 986,\n",
              " (668, 375): 987,\n",
              " (259, 500): 988,\n",
              " (437, 404): 989,\n",
              " (298, 261): 990,\n",
              " (170, 667): 991,\n",
              " (290, 472): 992,\n",
              " (267, 420): 993,\n",
              " (278, 174): 994,\n",
              " (274, 368): 995,\n",
              " (178, 624): 996,\n",
              " (532, 545): 997,\n",
              " (329, 149): 998,\n",
              " (338, 868): 999}"
            ]
          },
          "metadata": {},
          "execution_count": 23
        }
      ]
    },
    {
      "cell_type": "code",
      "source": [
        "def encode(text):\n",
        "  # given a string, return list of integers (the tokens)\n",
        "  tokens = list(text.encode(\"utf-8\"))\n",
        "  while len(tokens) >= 2:\n",
        "    stats = get_stats(tokens)\n",
        "    pair = min(stats, key=lambda p: merges.get(p, float(\"inf\")))\n",
        "    if pair not in merges:\n",
        "      break # nothing else can be merged\n",
        "    idx = merges[pair]\n",
        "    tokens = merge(tokens, pair, idx)\n",
        "  return tokens\n",
        "\n",
        "print(encode(\"हु\"))"
      ],
      "metadata": {
        "colab": {
          "base_uri": "https://localhost:8080/",
          "height": 34
        },
        "id": "mtbHxWrKRAT3",
        "outputId": "f5581814-286d-4e63-9054-0f0c9e9e83ca"
      },
      "execution_count": 33,
      "outputs": [
        {
          "output_type": "display_data",
          "data": {
            "text/plain": [
              "<IPython.core.display.HTML object>"
            ],
            "text/html": [
              "\n",
              "  <style>\n",
              "    pre {\n",
              "        white-space: pre-wrap;\n",
              "    }\n",
              "  </style>\n",
              "  "
            ]
          },
          "metadata": {}
        },
        {
          "output_type": "display_data",
          "data": {
            "text/plain": [
              "<IPython.core.display.HTML object>"
            ],
            "text/html": [
              "\n",
              "  <style>\n",
              "    pre {\n",
              "        white-space: pre-wrap;\n",
              "    }\n",
              "  </style>\n",
              "  "
            ]
          },
          "metadata": {}
        },
        {
          "output_type": "stream",
          "name": "stdout",
          "text": [
            "[349]\n"
          ]
        }
      ]
    },
    {
      "cell_type": "code",
      "source": [
        "print(decode(encode(\"नाम जीहँ जपि जागहिं जोगी।\")))"
      ],
      "metadata": {
        "colab": {
          "base_uri": "https://localhost:8080/",
          "height": 34
        },
        "id": "6Va4rDHPRWbw",
        "outputId": "3f9314bb-4ec8-4aeb-e74e-c34786f136de"
      },
      "execution_count": 26,
      "outputs": [
        {
          "output_type": "display_data",
          "data": {
            "text/plain": [
              "<IPython.core.display.HTML object>"
            ],
            "text/html": [
              "\n",
              "  <style>\n",
              "    pre {\n",
              "        white-space: pre-wrap;\n",
              "    }\n",
              "  </style>\n",
              "  "
            ]
          },
          "metadata": {}
        },
        {
          "output_type": "display_data",
          "data": {
            "text/plain": [
              "<IPython.core.display.HTML object>"
            ],
            "text/html": [
              "\n",
              "  <style>\n",
              "    pre {\n",
              "        white-space: pre-wrap;\n",
              "    }\n",
              "  </style>\n",
              "  "
            ]
          },
          "metadata": {}
        },
        {
          "output_type": "stream",
          "name": "stdout",
          "text": [
            "नाम जीहँ जपि जागहिं जोगी।\n"
          ]
        }
      ]
    }
  ]
}